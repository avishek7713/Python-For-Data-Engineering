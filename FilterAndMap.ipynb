{
  "nbformat": 4,
  "nbformat_minor": 0,
  "metadata": {
    "colab": {
      "provenance": [],
      "authorship_tag": "ABX9TyOqvuUhlcBQUuKCn7m1ajmN",
      "include_colab_link": true
    },
    "kernelspec": {
      "name": "python3",
      "display_name": "Python 3"
    },
    "language_info": {
      "name": "python"
    }
  },
  "cells": [
    {
      "cell_type": "markdown",
      "metadata": {
        "id": "view-in-github",
        "colab_type": "text"
      },
      "source": [
        "<a href=\"https://colab.research.google.com/github/avishek7713/Python-For-Data-Engineering/blob/main/FilterAndMap.ipynb\" target=\"_parent\"><img src=\"https://colab.research.google.com/assets/colab-badge.svg\" alt=\"Open In Colab\"/></a>"
      ]
    },
    {
      "cell_type": "code",
      "execution_count": 1,
      "metadata": {
        "id": "ItbO-peD9hfV"
      },
      "outputs": [],
      "source": [
        "# filter(): built-in python functions to filter elements form an iterable based on a condition\n",
        "# map(): applies a function to all items in an iterable"
      ]
    },
    {
      "cell_type": "code",
      "source": [
        "numbers = [1, 2, 3, 4, 5, 6, 7, 8, 9, 10]\n",
        "\n",
        "even_number = filter(lambda x: x % 2 == 0, numbers) # filter only even numbers using the filter function\n",
        "print(list(even_number))"
      ],
      "metadata": {
        "colab": {
          "base_uri": "https://localhost:8080/"
        },
        "id": "eGZlkynZ9wvJ",
        "outputId": "6a6e5ec9-db4c-4c04-f372-d5e364d71174"
      },
      "execution_count": 5,
      "outputs": [
        {
          "output_type": "stream",
          "name": "stdout",
          "text": [
            "[2, 4, 6, 8, 10]\n"
          ]
        }
      ]
    },
    {
      "cell_type": "code",
      "source": [
        "squared_list = map(lambda x: x ** 2, numbers)\n",
        "print(list(squared_list))"
      ],
      "metadata": {
        "colab": {
          "base_uri": "https://localhost:8080/"
        },
        "id": "946cFoJe-BU_",
        "outputId": "eca7a4e8-be3f-43b4-d7c4-72422cc36f77"
      },
      "execution_count": 8,
      "outputs": [
        {
          "output_type": "stream",
          "name": "stdout",
          "text": [
            "[1, 4, 9, 16, 25, 36, 49, 64, 81, 100]\n"
          ]
        }
      ]
    },
    {
      "cell_type": "code",
      "source": [],
      "metadata": {
        "id": "Ew5_OFa4-S_z"
      },
      "execution_count": null,
      "outputs": []
    }
  ]
}