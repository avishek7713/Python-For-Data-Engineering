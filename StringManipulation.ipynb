{
  "nbformat": 4,
  "nbformat_minor": 0,
  "metadata": {
    "colab": {
      "provenance": [],
      "authorship_tag": "ABX9TyMBYePb7nATdIUBqQlG+aFN",
      "include_colab_link": true
    },
    "kernelspec": {
      "name": "python3",
      "display_name": "Python 3"
    },
    "language_info": {
      "name": "python"
    }
  },
  "cells": [
    {
      "cell_type": "markdown",
      "metadata": {
        "id": "view-in-github",
        "colab_type": "text"
      },
      "source": [
        "<a href=\"https://colab.research.google.com/github/avishek7713/Python-For-Data-Engineering/blob/main/StringManipulation.ipynb\" target=\"_parent\"><img src=\"https://colab.research.google.com/assets/colab-badge.svg\" alt=\"Open In Colab\"/></a>"
      ]
    },
    {
      "cell_type": "code",
      "execution_count": null,
      "metadata": {
        "id": "AWRGv6gkvC0M"
      },
      "outputs": [],
      "source": [
        "# STRINGS  - sequence of characters, can be letters, numbers, and symbols"
      ]
    },
    {
      "cell_type": "code",
      "source": [
        "greeting = \"Hello World !\"\n",
        "print(greeting)"
      ],
      "metadata": {
        "colab": {
          "base_uri": "https://localhost:8080/"
        },
        "id": "OUjWCNoqvPcC",
        "outputId": "2ecebd6f-0a62-413f-e75a-76fc535c3489"
      },
      "execution_count": 1,
      "outputs": [
        {
          "output_type": "stream",
          "name": "stdout",
          "text": [
            "Hello World !\n"
          ]
        }
      ]
    },
    {
      "cell_type": "code",
      "source": [
        "# String concatenation\n",
        "\n",
        "name = 'John'\n",
        "message = greeting + name\n",
        "print(message)"
      ],
      "metadata": {
        "colab": {
          "base_uri": "https://localhost:8080/"
        },
        "id": "gKYhJP9EvW6y",
        "outputId": "812de4f2-525d-4d39-d12e-9f6ec519ee41"
      },
      "execution_count": 2,
      "outputs": [
        {
          "output_type": "stream",
          "name": "stdout",
          "text": [
            "Hello World !John\n"
          ]
        }
      ]
    },
    {
      "cell_type": "code",
      "source": [
        "# Replacing a word in sentence with another word\n",
        "\n",
        "new_string = greeting.replace('Hello', 'Hi')\n",
        "print(new_string)"
      ],
      "metadata": {
        "colab": {
          "base_uri": "https://localhost:8080/"
        },
        "id": "Blq_OLw6veiV",
        "outputId": "6b13dada-f74b-4621-a93a-49db74a486dd"
      },
      "execution_count": 3,
      "outputs": [
        {
          "output_type": "stream",
          "name": "stdout",
          "text": [
            "Hi World !\n"
          ]
        }
      ]
    },
    {
      "cell_type": "code",
      "source": [
        "# Removing white spaces\n",
        "\n",
        "sentence = '   Hello World    '\n",
        "print(sentence)\n",
        "print(sentence.strip())"
      ],
      "metadata": {
        "colab": {
          "base_uri": "https://localhost:8080/"
        },
        "id": "6bbRJyCyvm3M",
        "outputId": "571f9b46-4d27-44e9-ebf6-81b8a4641258"
      },
      "execution_count": 5,
      "outputs": [
        {
          "output_type": "stream",
          "name": "stdout",
          "text": [
            "   Hello World    \n",
            "Hello World\n"
          ]
        }
      ]
    },
    {
      "cell_type": "code",
      "source": [
        "# Finding a position of a string\n",
        "\n",
        "index = greeting.find(\"World\")\n",
        "print(index)"
      ],
      "metadata": {
        "colab": {
          "base_uri": "https://localhost:8080/"
        },
        "id": "59hha-yLvvEX",
        "outputId": "3bdcb36c-0d0a-4716-d95b-624876ab775b"
      },
      "execution_count": 8,
      "outputs": [
        {
          "output_type": "stream",
          "name": "stdout",
          "text": [
            "6\n"
          ]
        }
      ]
    },
    {
      "cell_type": "code",
      "source": [
        "# Format method - Putting desired value in place of curly braces\n",
        "\n",
        "template = 'Hello {}!'\n",
        "print(template.format('Avishek'))"
      ],
      "metadata": {
        "colab": {
          "base_uri": "https://localhost:8080/"
        },
        "id": "e8QHy1csv4in",
        "outputId": "1e5ea346-0521-44fc-af3c-9058ac69a223"
      },
      "execution_count": 11,
      "outputs": [
        {
          "output_type": "stream",
          "name": "stdout",
          "text": [
            "Hello Avishek!\n"
          ]
        }
      ]
    },
    {
      "cell_type": "code",
      "source": [
        "# UPPER CASE AND LOWER CASE / CAPITALIZE\n",
        "\n",
        "print(greeting.upper())\n",
        "print(greeting.lower())"
      ],
      "metadata": {
        "colab": {
          "base_uri": "https://localhost:8080/"
        },
        "id": "pnkBDF0lwKZU",
        "outputId": "b282f661-fbdf-4c9b-fa18-a98970b9800b"
      },
      "execution_count": 12,
      "outputs": [
        {
          "output_type": "stream",
          "name": "stdout",
          "text": [
            "HELLO WORLD !\n",
            "hello world !\n"
          ]
        }
      ]
    },
    {
      "cell_type": "code",
      "source": [
        "# Splitting words\n",
        "words = greeting.split() # splits the sentence and stores the words in a list\n",
        "print(words)"
      ],
      "metadata": {
        "colab": {
          "base_uri": "https://localhost:8080/"
        },
        "id": "_7KUxOirwZI3",
        "outputId": "bf0586d5-f6ce-4cb0-e74e-7656b16f398a"
      },
      "execution_count": 15,
      "outputs": [
        {
          "output_type": "stream",
          "name": "stdout",
          "text": [
            "['Hello', 'World', '!']\n"
          ]
        }
      ]
    },
    {
      "cell_type": "code",
      "source": [],
      "metadata": {
        "id": "QnA-SHDiwdnf"
      },
      "execution_count": null,
      "outputs": []
    }
  ]
}