{
  "nbformat": 4,
  "nbformat_minor": 0,
  "metadata": {
    "colab": {
      "provenance": [],
      "authorship_tag": "ABX9TyMmfQaBcU6aVLpSa+xh+cUl",
      "include_colab_link": true
    },
    "kernelspec": {
      "name": "python3",
      "display_name": "Python 3"
    },
    "language_info": {
      "name": "python"
    }
  },
  "cells": [
    {
      "cell_type": "markdown",
      "metadata": {
        "id": "view-in-github",
        "colab_type": "text"
      },
      "source": [
        "<a href=\"https://colab.research.google.com/github/avishek7713/Python-For-Data-Engineering/blob/main/Iteratbles.ipynb\" target=\"_parent\"><img src=\"https://colab.research.google.com/assets/colab-badge.svg\" alt=\"Open In Colab\"/></a>"
      ]
    },
    {
      "cell_type": "code",
      "execution_count": 1,
      "metadata": {
        "id": "bWbdx9C-8bam"
      },
      "outputs": [],
      "source": [
        "# Iterable = returns members one at a time\n",
        "# Types: List, Tuple, Dictionery, Set, String\n"
      ]
    },
    {
      "cell_type": "code",
      "source": [
        "fruits = ['apple', 'oranges', 'grapes']\n",
        "\n",
        "for f in fruits:\n",
        "  print(f)"
      ],
      "metadata": {
        "colab": {
          "base_uri": "https://localhost:8080/"
        },
        "id": "Z6eAUD6-8pvS",
        "outputId": "d0022cd7-e578-4b9e-d15d-4e32586ffea1"
      },
      "execution_count": 2,
      "outputs": [
        {
          "output_type": "stream",
          "name": "stdout",
          "text": [
            "apple\n",
            "oranges\n",
            "grapes\n"
          ]
        }
      ]
    },
    {
      "cell_type": "code",
      "source": [
        "it = iter(fruits)\n",
        "print(next(it))\n",
        "print(next(it))\n",
        "print(next(it))\n"
      ],
      "metadata": {
        "colab": {
          "base_uri": "https://localhost:8080/"
        },
        "id": "TRAuOC9M8wDE",
        "outputId": "0e0fd5a3-1136-4ed2-85d4-4a7d801d899b"
      },
      "execution_count": 3,
      "outputs": [
        {
          "output_type": "stream",
          "name": "stdout",
          "text": [
            "apple\n",
            "oranges\n",
            "grapes\n"
          ]
        }
      ]
    },
    {
      "cell_type": "code",
      "source": [
        "# check if a object is iterable\n",
        "\n",
        "def is_iterable(obj):\n",
        "  try:\n",
        "    iter(obj)\n",
        "    return True\n",
        "\n",
        "  except TypeError:\n",
        "    return False\n",
        "print(is_iterable(fruits))\n",
        "print(is_iterable(10))"
      ],
      "metadata": {
        "colab": {
          "base_uri": "https://localhost:8080/"
        },
        "id": "Z5BhoINi8_jy",
        "outputId": "c53f1795-ed12-47f7-9953-4ea3a99d80b6"
      },
      "execution_count": 4,
      "outputs": [
        {
          "output_type": "stream",
          "name": "stdout",
          "text": [
            "True\n",
            "False\n"
          ]
        }
      ]
    },
    {
      "cell_type": "code",
      "source": [],
      "metadata": {
        "id": "Ncf6heDW9QkF"
      },
      "execution_count": null,
      "outputs": []
    }
  ]
}