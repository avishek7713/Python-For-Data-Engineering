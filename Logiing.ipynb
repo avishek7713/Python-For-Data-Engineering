{
  "nbformat": 4,
  "nbformat_minor": 0,
  "metadata": {
    "colab": {
      "provenance": [],
      "authorship_tag": "ABX9TyNIC2S3hb9eMbRyZXS8CGla",
      "include_colab_link": true
    },
    "kernelspec": {
      "name": "python3",
      "display_name": "Python 3"
    },
    "language_info": {
      "name": "python"
    }
  },
  "cells": [
    {
      "cell_type": "markdown",
      "metadata": {
        "id": "view-in-github",
        "colab_type": "text"
      },
      "source": [
        "<a href=\"https://colab.research.google.com/github/avishek7713/Python-For-Data-Engineering/blob/main/Logiing.ipynb\" target=\"_parent\"><img src=\"https://colab.research.google.com/assets/colab-badge.svg\" alt=\"Open In Colab\"/></a>"
      ]
    },
    {
      "cell_type": "code",
      "execution_count": null,
      "metadata": {
        "id": "XpLhezMR_tg-"
      },
      "outputs": [],
      "source": [
        "# Recording events during execution of the program\n",
        "# includes errors, informational messages, and debugging information\n",
        "#\n",
        "\n",
        "### Logging Levels:\n",
        "##### ----- DEBUG : detailed info for diagnosing problems\n",
        "##### ----- INFO: confirmation that things are working as expected\n",
        "##### ----- WARNING: indication of potential problems\n",
        "##### ----- ERROR: serious problem preventing some function\n",
        "##### ----- CRITICAL: very serious error, potentially stopping the program"
      ]
    },
    {
      "cell_type": "code",
      "source": [
        "## Custom logging:\n",
        "#### modularity: separate loggers for different modules/components\n",
        "#### control: different logging levels and formats\n",
        "#### Scalability: manage and scale logging easily"
      ],
      "metadata": {
        "id": "xhhbNThYAlhF"
      },
      "execution_count": null,
      "outputs": []
    },
    {
      "cell_type": "code",
      "source": [
        "import logging\n",
        "\n",
        "logger = logging.getLogger(\"my_custom_logger\")\n",
        "logger.setLevel(logging.DEBUG)\n",
        "\n",
        "handler = logging.FileHandler('custom.log')\n",
        "formatter = logging.Formatter('%(asctime)s - %(name)s - %(levelname)s - %(message)s')\n",
        "handler.setFormatter(formatter)\n",
        "\n",
        "logger.addHandler(handler)\n",
        "logger.debug(\"This is a debug message from the custom logger.\")"
      ],
      "metadata": {
        "colab": {
          "base_uri": "https://localhost:8080/"
        },
        "id": "mxsDVOWYA9Ou",
        "outputId": "1243264d-9af6-4e11-e55b-6540027a8b57"
      },
      "execution_count": null,
      "outputs": [
        {
          "output_type": "stream",
          "name": "stderr",
          "text": [
            "DEBUG:my_custom_logger:This is a debug message from the custom logger.\n"
          ]
        }
      ]
    },
    {
      "cell_type": "code",
      "source": [
        "# Appropriate logging levels\n",
        "\n",
        "### DEBUG: for development and debugging\n",
        "### INFO: for normal workflow events\n",
        "### WARNING: potential issues or recoverable errors\n",
        "### ERROR: serious issues needing immediate attention\n",
        "### CRITICAL: severe errors causing application failure\n",
        "\n",
        "### AVOID LOGGING SENSITIVE INFORMATION\n",
        "### USE CONSISTENT FORMATTING\n",
        "### IMPLEMENT LOG ROTATION\n",
        "### LOGGING CONFIGURATION FILES\n",
        "### CENTRALIZE LOGGING\n",
        "### MONITOR AND ALERT ON LOGS\n",
        "### TEST LOGGING CONFIGURATION\n",
        "### DOCUMENT LOGGING STRATEGY"
      ],
      "metadata": {
        "id": "00Aw-CUoBKSN"
      },
      "execution_count": null,
      "outputs": []
    }
  ]
}