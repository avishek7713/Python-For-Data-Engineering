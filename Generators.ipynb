{
  "nbformat": 4,
  "nbformat_minor": 0,
  "metadata": {
    "colab": {
      "provenance": [],
      "authorship_tag": "ABX9TyPD2/fXCSKNbTh7cTbgOzUc",
      "include_colab_link": true
    },
    "kernelspec": {
      "name": "python3",
      "display_name": "Python 3"
    },
    "language_info": {
      "name": "python"
    }
  },
  "cells": [
    {
      "cell_type": "markdown",
      "metadata": {
        "id": "view-in-github",
        "colab_type": "text"
      },
      "source": [
        "<a href=\"https://colab.research.google.com/github/avishek7713/Python-For-Data-Engineering/blob/main/Generators.ipynb\" target=\"_parent\"><img src=\"https://colab.research.google.com/assets/colab-badge.svg\" alt=\"Open In Colab\"/></a>"
      ]
    },
    {
      "cell_type": "code",
      "execution_count": 1,
      "metadata": {
        "colab": {
          "base_uri": "https://localhost:8080/"
        },
        "id": "kU7o-umJiilc",
        "outputId": "48333f13-b0a2-4457-be92-dcd9a518e64d"
      },
      "outputs": [
        {
          "output_type": "stream",
          "name": "stdout",
          "text": [
            "1\n",
            "2\n",
            "3\n",
            "4\n",
            "5\n"
          ]
        }
      ],
      "source": [
        "class Counter:\n",
        "  def __init__(self, start, end):\n",
        "    self.current = start\n",
        "    self.end = end\n",
        "\n",
        "  def __iter__(self):\n",
        "    return self\n",
        "\n",
        "  def __next__(self):\n",
        "    if self.current > self.end:\n",
        "      raise StopIteration\n",
        "\n",
        "    else:\n",
        "      self.current += 1\n",
        "      return self.current -1\n",
        "\n",
        "counter = Counter(1, 5)\n",
        "\n",
        "for num in counter:\n",
        "  print(num)"
      ]
    },
    {
      "cell_type": "code",
      "source": [
        "# Generator Classes"
      ],
      "metadata": {
        "id": "Q4TqOIlJ7T_O"
      },
      "execution_count": 2,
      "outputs": []
    },
    {
      "cell_type": "code",
      "source": [
        "class Fibonacci:\n",
        "  def __init__(self, max):\n",
        "    self.max = max\n",
        "    self.a = 0\n",
        "    self.b = 1\n",
        "\n",
        "  def __iter__(self):\n",
        "    self.a, self.b = 0, 1\n",
        "    return self\n",
        "\n",
        "  def __next__(self):\n",
        "    if self.a > self.max:\n",
        "      raise StopIteration\n",
        "    else:\n",
        "      self.a, self.b = self.b, self.a + self.b\n",
        "\n",
        "  def generate(self):\n",
        "    while self.a <= self.max:\n",
        "      yield self.a\n",
        "      self.a, self.b = self.b, self.a + self.b\n",
        "\n",
        "fib = Fibonacci(10)\n",
        "for num in fib.generate():\n",
        "  print(num)\n"
      ],
      "metadata": {
        "colab": {
          "base_uri": "https://localhost:8080/"
        },
        "id": "QvOpyot77dXg",
        "outputId": "5d3d65ed-8c4e-498a-e5c8-6c0e7327ff46"
      },
      "execution_count": 5,
      "outputs": [
        {
          "output_type": "stream",
          "name": "stdout",
          "text": [
            "0\n",
            "1\n",
            "1\n",
            "2\n",
            "3\n",
            "5\n",
            "8\n"
          ]
        }
      ]
    },
    {
      "cell_type": "code",
      "source": [],
      "metadata": {
        "id": "8bXHUWBs8GwI"
      },
      "execution_count": null,
      "outputs": []
    }
  ]
}