{
  "nbformat": 4,
  "nbformat_minor": 0,
  "metadata": {
    "colab": {
      "provenance": [],
      "authorship_tag": "ABX9TyPl7os990OuxsWLClrfbzG6",
      "include_colab_link": true
    },
    "kernelspec": {
      "name": "python3",
      "display_name": "Python 3"
    },
    "language_info": {
      "name": "python"
    }
  },
  "cells": [
    {
      "cell_type": "markdown",
      "metadata": {
        "id": "view-in-github",
        "colab_type": "text"
      },
      "source": [
        "<a href=\"https://colab.research.google.com/github/avishek7713/Python-For-Data-Engineering/blob/main/Collections.ipynb\" target=\"_parent\"><img src=\"https://colab.research.google.com/assets/colab-badge.svg\" alt=\"Open In Colab\"/></a>"
      ]
    },
    {
      "cell_type": "code",
      "execution_count": 1,
      "metadata": {
        "id": "KQHPa1i2uDor"
      },
      "outputs": [],
      "source": [
        "# COLLECTION - container holding multiple items, can be of any types"
      ]
    },
    {
      "cell_type": "code",
      "source": [
        "# LIST - ordered, supports data changes\n",
        "# TUPLES - immutable\n",
        "# SET - supports unique elements\n",
        "# DICTIONARY - supports JSON"
      ],
      "metadata": {
        "id": "PURIFx8kLiML"
      },
      "execution_count": 2,
      "outputs": []
    },
    {
      "cell_type": "code",
      "source": [
        "#############3 TUPLES - items are ordered and unchangable, allows duplicates\n",
        "\n",
        "employee = (1, 'Deepak', 'Indore', 98373773)\n",
        "print(employee)\n",
        "print(employee[1])\n",
        "print(len(employee))\n",
        "print(employee[-1])"
      ],
      "metadata": {
        "colab": {
          "base_uri": "https://localhost:8080/"
        },
        "id": "ax2EGqifL2YH",
        "outputId": "96949b07-9a7d-4415-8eb4-44ca86db8920"
      },
      "execution_count": 7,
      "outputs": [
        {
          "output_type": "stream",
          "name": "stdout",
          "text": [
            "(1, 'Deepak', 'Indore', 98373773)\n",
            "Deepak\n",
            "4\n",
            "98373773\n"
          ]
        }
      ]
    },
    {
      "cell_type": "code",
      "source": [
        "# To change the tuple, should be converted to list\n",
        "\n",
        "new_emp = list(employee)\n",
        "new_emp[1] = \"Deepak Goyal\"\n",
        "employee = tuple(new_emp)\n",
        "print(employee)"
      ],
      "metadata": {
        "colab": {
          "base_uri": "https://localhost:8080/"
        },
        "id": "b5sUkfKMMLUc",
        "outputId": "0ebc912d-af09-439a-d7c5-5759075a0590"
      },
      "execution_count": 8,
      "outputs": [
        {
          "output_type": "stream",
          "name": "stdout",
          "text": [
            "(1, 'Deepak Goyal', 'Indore', 98373773)\n"
          ]
        }
      ]
    },
    {
      "cell_type": "code",
      "source": [
        "# LOOPING IN TUPLE\n",
        "\n",
        "for x in employee:\n",
        "  print(x)"
      ],
      "metadata": {
        "colab": {
          "base_uri": "https://localhost:8080/"
        },
        "id": "epy81st5Mp5h",
        "outputId": "f574774c-c84b-40a9-9d82-d3414f0250e8"
      },
      "execution_count": 9,
      "outputs": [
        {
          "output_type": "stream",
          "name": "stdout",
          "text": [
            "1\n",
            "Deepak Goyal\n",
            "Indore\n",
            "98373773\n"
          ]
        }
      ]
    },
    {
      "cell_type": "code",
      "source": [
        "# Accessing the position\n",
        "\n",
        "print(employee.index(\"Indore\"))"
      ],
      "metadata": {
        "colab": {
          "base_uri": "https://localhost:8080/"
        },
        "id": "oswYJiroMvqN",
        "outputId": "cebc8583-863e-4b0c-dd63-007fdb49b6c7"
      },
      "execution_count": 10,
      "outputs": [
        {
          "output_type": "stream",
          "name": "stdout",
          "text": [
            "2\n"
          ]
        }
      ]
    },
    {
      "cell_type": "code",
      "source": [
        "###### LISTS - ordered, mutable, allows duplicated\n",
        "\n",
        "tasks = ['development', 'testing', 'monitoring']\n",
        "print(tasks)"
      ],
      "metadata": {
        "colab": {
          "base_uri": "https://localhost:8080/"
        },
        "id": "q_1-TvZPMycl",
        "outputId": "4f975a15-f17e-4a6b-e930-71205cee1018"
      },
      "execution_count": 11,
      "outputs": [
        {
          "output_type": "stream",
          "name": "stdout",
          "text": [
            "['development', 'testing', 'monitoring']\n"
          ]
        }
      ]
    },
    {
      "cell_type": "code",
      "source": [
        "print(tasks[1])\n",
        "\n",
        "# mutable\n",
        "tasks[1] = \"New testing\"\n",
        "print(tasks)"
      ],
      "metadata": {
        "colab": {
          "base_uri": "https://localhost:8080/"
        },
        "id": "6LEnxdjTQWu0",
        "outputId": "ec1e530b-6be4-4f63-f088-4829e761867c"
      },
      "execution_count": 13,
      "outputs": [
        {
          "output_type": "stream",
          "name": "stdout",
          "text": [
            "testing\n",
            "['development', 'New testing', 'monitoring']\n"
          ]
        }
      ]
    },
    {
      "cell_type": "code",
      "source": [
        "tasks.append(\"Production deployment\") # adds element to the last position\n",
        "print(tasks)\n",
        "\n",
        "tasks.insert(1, \"Unit testing\") # insert an item to any position\n",
        "print(tasks)\n",
        "\n",
        "tasks.remove(\"Unit testing\") # removing an item from the list\n",
        "print(tasks)\n",
        "\n",
        "tasks.pop(1) # to remove an element based on the index\n",
        "print(tasks)"
      ],
      "metadata": {
        "colab": {
          "base_uri": "https://localhost:8080/"
        },
        "id": "ioP47vkmQYWj",
        "outputId": "a572d3fe-11fb-4073-8df8-9ef83161fa18"
      },
      "execution_count": 18,
      "outputs": [
        {
          "output_type": "stream",
          "name": "stdout",
          "text": [
            "['development', 'Unit testing', 'New testing', 'monitoring', 'Production deployment', 'Production deployment', 'Production deployment', 'Production deployment', 'Production deployment']\n",
            "['development', 'Unit testing', 'Unit testing', 'New testing', 'monitoring', 'Production deployment', 'Production deployment', 'Production deployment', 'Production deployment', 'Production deployment']\n",
            "['development', 'Unit testing', 'New testing', 'monitoring', 'Production deployment', 'Production deployment', 'Production deployment', 'Production deployment', 'Production deployment']\n",
            "['development', 'New testing', 'monitoring', 'Production deployment', 'Production deployment', 'Production deployment', 'Production deployment', 'Production deployment']\n"
          ]
        }
      ]
    },
    {
      "cell_type": "code",
      "source": [
        "for x in tasks:\n",
        "  print(x)"
      ],
      "metadata": {
        "colab": {
          "base_uri": "https://localhost:8080/"
        },
        "id": "vxUJ56OpQt4_",
        "outputId": "a8ef4604-9511-488f-8a09-fed7f27d94eb"
      },
      "execution_count": 19,
      "outputs": [
        {
          "output_type": "stream",
          "name": "stdout",
          "text": [
            "development\n",
            "New testing\n",
            "monitoring\n",
            "Production deployment\n",
            "Production deployment\n",
            "Production deployment\n",
            "Production deployment\n",
            "Production deployment\n"
          ]
        }
      ]
    },
    {
      "cell_type": "code",
      "source": [
        "########### SETS -\n",
        "\n",
        "tasks = {'develop', 'test', 'monitor'}\n",
        "print(tasks)"
      ],
      "metadata": {
        "colab": {
          "base_uri": "https://localhost:8080/"
        },
        "id": "ci3_HmftRNQ5",
        "outputId": "093617f8-8342-4d81-89b4-0a536c66371f"
      },
      "execution_count": 20,
      "outputs": [
        {
          "output_type": "stream",
          "name": "stdout",
          "text": [
            "{'monitor', 'develop', 'test'}\n"
          ]
        }
      ]
    },
    {
      "cell_type": "code",
      "source": [
        "# checking for duplicacy\n",
        "\n",
        "\n",
        "tasks = {'develop', 'test', 'monitor', 'test'}\n",
        "print(tasks)"
      ],
      "metadata": {
        "colab": {
          "base_uri": "https://localhost:8080/"
        },
        "id": "9OVXqyAORsIx",
        "outputId": "61a54942-0da6-43f0-b754-059428392b3c"
      },
      "execution_count": 21,
      "outputs": [
        {
          "output_type": "stream",
          "name": "stdout",
          "text": [
            "{'monitor', 'develop', 'test'}\n"
          ]
        }
      ]
    },
    {
      "cell_type": "code",
      "source": [
        "tasks.add(\"deploy\")\n",
        "print(tasks)\n",
        "\n"
      ],
      "metadata": {
        "colab": {
          "base_uri": "https://localhost:8080/"
        },
        "id": "ivqL6jLERz6Q",
        "outputId": "9c8f324b-f500-4447-88ff-b85a407ec6d0"
      },
      "execution_count": 22,
      "outputs": [
        {
          "output_type": "stream",
          "name": "stdout",
          "text": [
            "{'monitor', 'deploy', 'develop', 'test'}\n"
          ]
        }
      ]
    },
    {
      "cell_type": "code",
      "source": [
        "# adding one set to another\n",
        "\n",
        "new_task = {\"unit testing\", \"SIT testing\"}\n",
        "tasks.update(new_task) # for updating the root set\n",
        "print(tasks)"
      ],
      "metadata": {
        "colab": {
          "base_uri": "https://localhost:8080/"
        },
        "id": "XQlLkQrKR5fg",
        "outputId": "885930bf-ff48-425a-f494-78ca13eab4be"
      },
      "execution_count": 25,
      "outputs": [
        {
          "output_type": "stream",
          "name": "stdout",
          "text": [
            "{'monitor', 'develop', 'test', 'SIT testing', 'unit testing', 'deploy'}\n"
          ]
        }
      ]
    },
    {
      "cell_type": "code",
      "source": [
        "tasks.remove(\"test\") # removes a set item\n",
        "print(tasks)"
      ],
      "metadata": {
        "colab": {
          "base_uri": "https://localhost:8080/"
        },
        "id": "g2bgjDEqSD2L",
        "outputId": "bf8db275-e1da-4f06-a719-bee907d0fdca"
      },
      "execution_count": 26,
      "outputs": [
        {
          "output_type": "stream",
          "name": "stdout",
          "text": [
            "{'monitor', 'develop', 'SIT testing', 'unit testing', 'deploy'}\n"
          ]
        }
      ]
    },
    {
      "cell_type": "code",
      "source": [
        "new_task.clear() # empty the set\n",
        "print(new_task)"
      ],
      "metadata": {
        "colab": {
          "base_uri": "https://localhost:8080/"
        },
        "id": "cJy_4wHXSW8o",
        "outputId": "92b98a89-5165-4601-9a41-cd51112c5301"
      },
      "execution_count": 27,
      "outputs": [
        {
          "output_type": "stream",
          "name": "stdout",
          "text": [
            "set()\n"
          ]
        }
      ]
    },
    {
      "cell_type": "code",
      "source": [
        "######## DICTIONARIES - each piece of data has a unique key, ordered, mutable, doesn't allow duplicates\n",
        "\n",
        "user = {'name': 'Deepak', \"city\": \"Indore\", \"age\": 20}\n",
        "print(user)"
      ],
      "metadata": {
        "colab": {
          "base_uri": "https://localhost:8080/"
        },
        "id": "o5XbX20dSa-O",
        "outputId": "8f49b45c-8f8b-4893-9608-98679d1e113a"
      },
      "execution_count": 28,
      "outputs": [
        {
          "output_type": "stream",
          "name": "stdout",
          "text": [
            "{'name': 'Deepak', 'city': 'Indore', 'age': 20}\n"
          ]
        }
      ]
    },
    {
      "cell_type": "code",
      "source": [
        "print(user['city']) # accessing value using its key\n",
        "\n",
        "print(user.get(\"city\")) # also can be done using the \"get\" method"
      ],
      "metadata": {
        "colab": {
          "base_uri": "https://localhost:8080/"
        },
        "id": "HbSi-eIdS3GY",
        "outputId": "a826bfb7-a651-4f9c-9ba1-b66924ac1508"
      },
      "execution_count": 33,
      "outputs": [
        {
          "output_type": "stream",
          "name": "stdout",
          "text": [
            "Indore\n",
            "Indore\n"
          ]
        }
      ]
    },
    {
      "cell_type": "code",
      "source": [
        "keys = user.keys() # assigning a variable for key\n",
        "print(keys)\n",
        "\n",
        "values = user.values() # assigning a variable for values\n",
        "print(values)"
      ],
      "metadata": {
        "colab": {
          "base_uri": "https://localhost:8080/"
        },
        "id": "kdnQNEOqS5TB",
        "outputId": "78de446f-f24e-4f68-d5c7-1498d956b47b"
      },
      "execution_count": 35,
      "outputs": [
        {
          "output_type": "stream",
          "name": "stdout",
          "text": [
            "dict_keys(['name', 'city', 'age'])\n",
            "dict_values(['Deepak', 'Indore', 20])\n"
          ]
        }
      ]
    },
    {
      "cell_type": "code",
      "source": [
        "if \"name\" in user:\n",
        "  print('yes')"
      ],
      "metadata": {
        "colab": {
          "base_uri": "https://localhost:8080/"
        },
        "id": "yVWLnTTxTG1S",
        "outputId": "004ca98a-d9ab-4261-f7a7-0ad7af9919f9"
      },
      "execution_count": 36,
      "outputs": [
        {
          "output_type": "stream",
          "name": "stdout",
          "text": [
            "yes\n"
          ]
        }
      ]
    },
    {
      "cell_type": "code",
      "source": [
        "user['city'] = \"Mumbai\" # accessing a value\n",
        "print(user)"
      ],
      "metadata": {
        "colab": {
          "base_uri": "https://localhost:8080/"
        },
        "id": "otKuMODbTcFI",
        "outputId": "f4f546c2-5a55-4894-be47-fde7117ff05e"
      },
      "execution_count": 38,
      "outputs": [
        {
          "output_type": "stream",
          "name": "stdout",
          "text": [
            "{'name': 'Deepak', 'city': 'Mumbai', 'age': 20}\n"
          ]
        }
      ]
    },
    {
      "cell_type": "code",
      "source": [
        "user.update({'mobile': 83748738}) # adds a key value paid at the end\n",
        "print(user)"
      ],
      "metadata": {
        "colab": {
          "base_uri": "https://localhost:8080/"
        },
        "id": "VzC_ugbITjwV",
        "outputId": "da63bfb2-f108-4bbc-c96d-61a87226b611"
      },
      "execution_count": 39,
      "outputs": [
        {
          "output_type": "stream",
          "name": "stdout",
          "text": [
            "{'name': 'Deepak', 'city': 'Mumbai', 'age': 20, 'mobile': 83748738}\n"
          ]
        }
      ]
    },
    {
      "cell_type": "code",
      "source": [
        "user.pop(\"mobile\") # removing a key value pair\n",
        "print(user)"
      ],
      "metadata": {
        "colab": {
          "base_uri": "https://localhost:8080/"
        },
        "id": "djJ6mZ-qTq7O",
        "outputId": "bc5c8be3-2b0e-4433-c101-99f4bb846bfb"
      },
      "execution_count": 40,
      "outputs": [
        {
          "output_type": "stream",
          "name": "stdout",
          "text": [
            "{'name': 'Deepak', 'city': 'Mumbai', 'age': 20}\n"
          ]
        }
      ]
    },
    {
      "cell_type": "code",
      "source": [
        "for x in user.keys():\n",
        "  print(user[x])"
      ],
      "metadata": {
        "colab": {
          "base_uri": "https://localhost:8080/"
        },
        "id": "XDb2wdhyT0Rw",
        "outputId": "83c0fde0-6ce8-433b-ee40-dc139e1603aa"
      },
      "execution_count": 41,
      "outputs": [
        {
          "output_type": "stream",
          "name": "stdout",
          "text": [
            "Deepak\n",
            "Mumbai\n",
            "20\n"
          ]
        }
      ]
    },
    {
      "cell_type": "code",
      "source": [
        "new_user = user # points to the same dictionary, cannot be copied like this\n",
        "new_user.update({'mobile': 3874837487})"
      ],
      "metadata": {
        "id": "L-AZV-d5T7aO"
      },
      "execution_count": 44,
      "outputs": []
    },
    {
      "cell_type": "code",
      "source": [
        "print(new_user)\n",
        "print(user)"
      ],
      "metadata": {
        "colab": {
          "base_uri": "https://localhost:8080/"
        },
        "id": "Pknoq54tUEDD",
        "outputId": "7614c2d2-5fd5-4ccb-c9ee-d619e392c798"
      },
      "execution_count": 45,
      "outputs": [
        {
          "output_type": "stream",
          "name": "stdout",
          "text": [
            "{'name': 'Deepak', 'city': 'Mumbai', 'age': 20, 'mobile': 3874837487}\n",
            "{'name': 'Deepak', 'city': 'Mumbai', 'age': 20, 'mobile': 3874837487}\n"
          ]
        }
      ]
    },
    {
      "cell_type": "code",
      "source": [
        "# to copy a dictionary\n",
        "\n",
        "new_user = user.copy()\n",
        "new_user.update({'sex': 'M'})"
      ],
      "metadata": {
        "id": "KbHNIrkUUMbc"
      },
      "execution_count": 46,
      "outputs": []
    },
    {
      "cell_type": "code",
      "source": [
        "print(new_user)\n",
        "print(user)"
      ],
      "metadata": {
        "colab": {
          "base_uri": "https://localhost:8080/"
        },
        "id": "-FEgtJJMUeyC",
        "outputId": "63e36eea-6fcf-4dde-e074-a857f09a0515"
      },
      "execution_count": 47,
      "outputs": [
        {
          "output_type": "stream",
          "name": "stdout",
          "text": [
            "{'name': 'Deepak', 'city': 'Mumbai', 'age': 20, 'mobile': 3874837487, 'sex': 'M'}\n",
            "{'name': 'Deepak', 'city': 'Mumbai', 'age': 20, 'mobile': 3874837487}\n"
          ]
        }
      ]
    },
    {
      "cell_type": "code",
      "source": [],
      "metadata": {
        "id": "iJb3_uakUgqI"
      },
      "execution_count": null,
      "outputs": []
    }
  ]
}