{
  "nbformat": 4,
  "nbformat_minor": 0,
  "metadata": {
    "colab": {
      "provenance": [],
      "authorship_tag": "ABX9TyMzhG8YMlq6ZZxBEcoPVJPy",
      "include_colab_link": true
    },
    "kernelspec": {
      "name": "python3",
      "display_name": "Python 3"
    },
    "language_info": {
      "name": "python"
    }
  },
  "cells": [
    {
      "cell_type": "markdown",
      "metadata": {
        "id": "view-in-github",
        "colab_type": "text"
      },
      "source": [
        "<a href=\"https://colab.research.google.com/github/avishek7713/Python-For-Data-Engineering/blob/main/AnyAndAllFunctions.ipynb\" target=\"_parent\"><img src=\"https://colab.research.google.com/assets/colab-badge.svg\" alt=\"Open In Colab\"/></a>"
      ]
    },
    {
      "cell_type": "code",
      "execution_count": null,
      "metadata": {
        "id": "hGpvLZvw-jX4"
      },
      "outputs": [],
      "source": [
        "# any(): returns True if at least one element is True\n",
        "# all(): returns True if all elements are True"
      ]
    },
    {
      "cell_type": "code",
      "source": [
        "numbers = [-1, 0, 1, -2, 2, 0]\n",
        "print(all(num > 0 for num in numbers))# checking if all the numbers are greater than 0 using the \"all()\" function"
      ],
      "metadata": {
        "colab": {
          "base_uri": "https://localhost:8080/"
        },
        "id": "TOCUJNP8-0aN",
        "outputId": "aa18c53a-6b46-4a24-9c84-7229472bd6aa"
      },
      "execution_count": 1,
      "outputs": [
        {
          "output_type": "stream",
          "name": "stdout",
          "text": [
            "False\n"
          ]
        }
      ]
    },
    {
      "cell_type": "code",
      "source": [
        "print(any(num > 0 for num in numbers)) # checking if any of the number is greater than 0 using the \"any()\" function"
      ],
      "metadata": {
        "colab": {
          "base_uri": "https://localhost:8080/"
        },
        "id": "S_Mf8ni0_Oip",
        "outputId": "53ed9028-9a88-4524-d967-dfeecb90b6f2"
      },
      "execution_count": 2,
      "outputs": [
        {
          "output_type": "stream",
          "name": "stdout",
          "text": [
            "True\n"
          ]
        }
      ]
    },
    {
      "cell_type": "code",
      "source": [],
      "metadata": {
        "id": "u8yRGNnh_TRG"
      },
      "execution_count": null,
      "outputs": []
    }
  ]
}