{
  "nbformat": 4,
  "nbformat_minor": 0,
  "metadata": {
    "colab": {
      "provenance": [],
      "authorship_tag": "ABX9TyPsRNe9FMcR9mSnHIFp+jSF",
      "include_colab_link": true
    },
    "kernelspec": {
      "name": "python3",
      "display_name": "Python 3"
    },
    "language_info": {
      "name": "python"
    }
  },
  "cells": [
    {
      "cell_type": "markdown",
      "metadata": {
        "id": "view-in-github",
        "colab_type": "text"
      },
      "source": [
        "<a href=\"https://colab.research.google.com/github/avishek7713/Python-For-Data-Engineering/blob/main/Numpy.ipynb\" target=\"_parent\"><img src=\"https://colab.research.google.com/assets/colab-badge.svg\" alt=\"Open In Colab\"/></a>"
      ]
    },
    {
      "cell_type": "code",
      "execution_count": 4,
      "metadata": {
        "colab": {
          "base_uri": "https://localhost:8080/"
        },
        "id": "7izbMzBnRXlD",
        "outputId": "816b86df-755c-4318-8b7a-e670be31895d"
      },
      "outputs": [
        {
          "output_type": "stream",
          "name": "stdout",
          "text": [
            "[1 2 3 4 5]\n"
          ]
        }
      ],
      "source": [
        "# --------- CREATING ARRAYS ----------\n",
        "\n",
        "import numpy as np\n",
        "\n",
        "nums = [1,2,3,4,5]\n",
        "\n",
        "array1 = np.array(nums)\n",
        "print(array1)"
      ]
    },
    {
      "cell_type": "code",
      "source": [
        "zero_array = np.zeros(5) # GENERATING AN ARRAY OF 5 ZEROS\n",
        "print(zero_array)"
      ],
      "metadata": {
        "colab": {
          "base_uri": "https://localhost:8080/"
        },
        "id": "QuO1k-8bSGwt",
        "outputId": "e1716da5-66b4-41c1-abc0-57ccff95a086"
      },
      "execution_count": 6,
      "outputs": [
        {
          "output_type": "stream",
          "name": "stdout",
          "text": [
            "[0. 0. 0. 0. 0.]\n"
          ]
        }
      ]
    },
    {
      "cell_type": "code",
      "source": [
        "ones_array = np.ones(5)\n",
        "print(ones_array)"
      ],
      "metadata": {
        "colab": {
          "base_uri": "https://localhost:8080/"
        },
        "id": "i9u_NEQsSWwU",
        "outputId": "c3682324-6265-4fbc-b8f8-28c9cf90e2a8"
      },
      "execution_count": 7,
      "outputs": [
        {
          "output_type": "stream",
          "name": "stdout",
          "text": [
            "[1. 1. 1. 1. 1.]\n"
          ]
        }
      ]
    },
    {
      "cell_type": "code",
      "source": [
        "range_array = np.arange(1, 10, 2) # array starting from 1 to 10 and step by 2\n",
        "print(range_array)"
      ],
      "metadata": {
        "colab": {
          "base_uri": "https://localhost:8080/"
        },
        "id": "cMf8m-SjSgCK",
        "outputId": "cf31c1ca-7146-4cd2-e9b8-a02c4af21f80"
      },
      "execution_count": 8,
      "outputs": [
        {
          "output_type": "stream",
          "name": "stdout",
          "text": [
            "[1 3 5 7 9]\n"
          ]
        }
      ]
    },
    {
      "cell_type": "code",
      "source": [
        "random_array = np.random.randint(1, 100, 5) # GENERATE 5 RANDOM NUMBERS FROM 1 TO 100\n",
        "print(random_array)"
      ],
      "metadata": {
        "colab": {
          "base_uri": "https://localhost:8080/"
        },
        "id": "1rul32uUSlec",
        "outputId": "52677f21-a2df-49ea-cccb-8839d3d0b7b4"
      },
      "execution_count": 12,
      "outputs": [
        {
          "output_type": "stream",
          "name": "stdout",
          "text": [
            "[37 71 47 15 48]\n"
          ]
        }
      ]
    },
    {
      "cell_type": "code",
      "source": [
        "random_matrix = np.random.rand(3, 3) # GENERATIGN A 3 X 3 RANDOM MATRIX\n",
        "print(random_matrix)"
      ],
      "metadata": {
        "colab": {
          "base_uri": "https://localhost:8080/"
        },
        "id": "onwyCS6kSyqs",
        "outputId": "e22a5050-e47a-4f5d-b97e-8cc24d954d19"
      },
      "execution_count": 15,
      "outputs": [
        {
          "output_type": "stream",
          "name": "stdout",
          "text": [
            "[[0.16187478 0.39773962 0.33108902]\n",
            " [0.44190533 0.04520563 0.31003287]\n",
            " [0.92846237 0.82051659 0.04629691]]\n"
          ]
        }
      ]
    },
    {
      "cell_type": "code",
      "source": [
        "shape = range_array.shape # shape of the matrix\n",
        "print(shape)"
      ],
      "metadata": {
        "colab": {
          "base_uri": "https://localhost:8080/"
        },
        "id": "6kDChqvuTDmr",
        "outputId": "9b03d570-ae87-4225-a4ee-3da4f5f4a57a"
      },
      "execution_count": 16,
      "outputs": [
        {
          "output_type": "stream",
          "name": "stdout",
          "text": [
            "(5,)\n"
          ]
        }
      ]
    },
    {
      "cell_type": "code",
      "source": [
        "size = range_array.size # size of the matrix\n",
        "print(size)"
      ],
      "metadata": {
        "colab": {
          "base_uri": "https://localhost:8080/"
        },
        "id": "jOXaP6-5TOmx",
        "outputId": "128f8104-c70e-4d7c-f2ab-452f82425ac9"
      },
      "execution_count": 17,
      "outputs": [
        {
          "output_type": "stream",
          "name": "stdout",
          "text": [
            "5\n"
          ]
        }
      ]
    },
    {
      "cell_type": "code",
      "source": [
        "dtype = random_matrix.dtype # datatype of the matrix\n",
        "print(dtype)"
      ],
      "metadata": {
        "colab": {
          "base_uri": "https://localhost:8080/"
        },
        "id": "A880eSG1TTGR",
        "outputId": "e3d5fc71-bd55-4ab9-d5fd-0f9786c859cd"
      },
      "execution_count": 20,
      "outputs": [
        {
          "output_type": "stream",
          "name": "stdout",
          "text": [
            "float64\n"
          ]
        }
      ]
    },
    {
      "cell_type": "code",
      "source": [
        "print(range_array.ndim) # dimension using NDIM()"
      ],
      "metadata": {
        "colab": {
          "base_uri": "https://localhost:8080/"
        },
        "id": "EsPmgfCnTc9T",
        "outputId": "6e7729f2-4236-460d-f535-a4e5ecd3dd10"
      },
      "execution_count": 23,
      "outputs": [
        {
          "output_type": "stream",
          "name": "stdout",
          "text": [
            "1\n"
          ]
        }
      ]
    },
    {
      "cell_type": "code",
      "source": [
        "# ________________ ARRAY OPERATIONS ________________\n",
        "\n",
        "import numpy as np\n",
        "\n",
        "array1 = np.array([1,2,3,4,5])\n",
        "array2 = np.array([6,7,8,9,10])\n",
        "\n",
        "sum = array1 + array2\n",
        "sub = array1 - array2\n",
        "mul = array1 * array2\n",
        "div = array1 / array2\n",
        "print(sum, sub, mul, div)"
      ],
      "metadata": {
        "colab": {
          "base_uri": "https://localhost:8080/"
        },
        "id": "jwXE0T8yTn5s",
        "outputId": "bde0dca5-9a3f-4d30-c78b-ab18c2bb513c"
      },
      "execution_count": 24,
      "outputs": [
        {
          "output_type": "stream",
          "name": "stdout",
          "text": [
            "[ 7  9 11 13 15] [-5 -5 -5 -5 -5] [ 6 14 24 36 50] [0.16666667 0.28571429 0.375      0.44444444 0.5       ]\n"
          ]
        }
      ]
    },
    {
      "cell_type": "code",
      "source": [
        "# Aggregation Functions\n",
        "\n",
        "mean = np.mean(array1)\n",
        "print(mean)\n",
        "\n",
        "sum = np.sum(array1)\n",
        "print(sum)\n",
        "\n",
        "max = np.max(array1)\n",
        "print(max)\n",
        "\n",
        "min = np.min(array1)\n",
        "print(min)"
      ],
      "metadata": {
        "colab": {
          "base_uri": "https://localhost:8080/"
        },
        "id": "pVE3LNtRUPGF",
        "outputId": "d427e589-2b7f-4a02-cdd9-07984b4604f7"
      },
      "execution_count": 29,
      "outputs": [
        {
          "output_type": "stream",
          "name": "stdout",
          "text": [
            "3.0\n",
            "15\n",
            "5\n",
            "1\n"
          ]
        }
      ]
    },
    {
      "cell_type": "code",
      "source": [
        "# Boolean operations\n",
        "\n",
        "greater_than_array = array1 > 3\n",
        "print(greater_than_array)"
      ],
      "metadata": {
        "colab": {
          "base_uri": "https://localhost:8080/"
        },
        "id": "qog6bVTJUXzY",
        "outputId": "324e77da-5484-4618-b2f2-6132a36da292"
      },
      "execution_count": 31,
      "outputs": [
        {
          "output_type": "stream",
          "name": "stdout",
          "text": [
            "[False False False  True  True]\n"
          ]
        }
      ]
    },
    {
      "cell_type": "code",
      "source": [
        "# Broadcasting\n",
        "\n",
        "result = array1 + 5 # broadcasting an element to all the elements in the array\n",
        "print(result)"
      ],
      "metadata": {
        "colab": {
          "base_uri": "https://localhost:8080/"
        },
        "id": "f7GEWz-RUpM_",
        "outputId": "10b351aa-783d-47c3-d4fe-5cbb634fbcdc"
      },
      "execution_count": 32,
      "outputs": [
        {
          "output_type": "stream",
          "name": "stdout",
          "text": [
            "[ 6  7  8  9 10]\n"
          ]
        }
      ]
    },
    {
      "cell_type": "code",
      "source": [
        "# ___________ Indexing and Slicing _________\n",
        "\n",
        "import numpy as np\n",
        "\n",
        "array1 = np.array([10, 20, 30, 40, 50])\n",
        "\n",
        "secondElement = array1[1]\n",
        "print(secondElement)"
      ],
      "metadata": {
        "colab": {
          "base_uri": "https://localhost:8080/"
        },
        "id": "0OiTyPgoUzFt",
        "outputId": "ebb3bc97-8117-46b9-8264-48bdac7d0d79"
      },
      "execution_count": 33,
      "outputs": [
        {
          "output_type": "stream",
          "name": "stdout",
          "text": [
            "20\n"
          ]
        }
      ]
    },
    {
      "cell_type": "code",
      "source": [
        "secondLastElement = array1[-2]\n",
        "print(secondLastElement)"
      ],
      "metadata": {
        "colab": {
          "base_uri": "https://localhost:8080/"
        },
        "id": "5bze00SBVLIx",
        "outputId": "bd4f66f8-b23f-4d97-953b-4698c2c22482"
      },
      "execution_count": 34,
      "outputs": [
        {
          "output_type": "stream",
          "name": "stdout",
          "text": [
            "40\n"
          ]
        }
      ]
    },
    {
      "cell_type": "code",
      "source": [
        "# Slicing\n",
        "\n",
        "sliced_arr = array1[1:4] # printing elements from the second position to the fourth position\n",
        "print(sliced_arr)"
      ],
      "metadata": {
        "colab": {
          "base_uri": "https://localhost:8080/"
        },
        "id": "jJ4zWiX1VRAS",
        "outputId": "a5b4a535-e5b9-4174-9167-716bbaa6a29b"
      },
      "execution_count": 36,
      "outputs": [
        {
          "output_type": "stream",
          "name": "stdout",
          "text": [
            "[20 30 40]\n"
          ]
        }
      ]
    },
    {
      "cell_type": "code",
      "source": [
        "step_array = array1[::2] # print every second element\n",
        "print(step_array)"
      ],
      "metadata": {
        "colab": {
          "base_uri": "https://localhost:8080/"
        },
        "id": "SvS_MsQ_VVGh",
        "outputId": "b8e9c61d-0cfa-4a69-e1be-343f91779731"
      },
      "execution_count": 38,
      "outputs": [
        {
          "output_type": "stream",
          "name": "stdout",
          "text": [
            "[10 30 50]\n"
          ]
        }
      ]
    },
    {
      "cell_type": "code",
      "source": [
        "# operations in the matrix\n",
        "\n",
        "matrix = np.array (\n",
        "    [\n",
        "        [1,2,3],\n",
        "        [4,5,6],\n",
        "        [7,8,9]\n",
        "    ]\n",
        ")"
      ],
      "metadata": {
        "id": "KcQhAcP7ViEQ"
      },
      "execution_count": 39,
      "outputs": []
    },
    {
      "cell_type": "code",
      "source": [
        "element = matrix[1,1] # accessing a certain element in the matrix\n",
        "print(element)"
      ],
      "metadata": {
        "colab": {
          "base_uri": "https://localhost:8080/"
        },
        "id": "aDEgrUMHVxB5",
        "outputId": "b969f8a7-d3f6-4623-ddde-718d46bd7a2a"
      },
      "execution_count": 40,
      "outputs": [
        {
          "output_type": "stream",
          "name": "stdout",
          "text": [
            "5\n"
          ]
        }
      ]
    },
    {
      "cell_type": "code",
      "source": [
        "second_row = matrix[1, :] # printing the entire second row\n",
        "print(second_row)"
      ],
      "metadata": {
        "colab": {
          "base_uri": "https://localhost:8080/"
        },
        "id": "th_IdESOV0E-",
        "outputId": "80e82a61-eb16-4c55-b29e-3c40ff76f9a3"
      },
      "execution_count": 41,
      "outputs": [
        {
          "output_type": "stream",
          "name": "stdout",
          "text": [
            "[4 5 6]\n"
          ]
        }
      ]
    },
    {
      "cell_type": "code",
      "source": [
        "second_column = matrix[:, 1] # printing the second column\n",
        "print(second_column)"
      ],
      "metadata": {
        "colab": {
          "base_uri": "https://localhost:8080/"
        },
        "id": "PODC-DqQV8Wu",
        "outputId": "76e6cb2b-f4b7-41df-b633-4b5404386c95"
      },
      "execution_count": 42,
      "outputs": [
        {
          "output_type": "stream",
          "name": "stdout",
          "text": [
            "[2 5 8]\n"
          ]
        }
      ]
    },
    {
      "cell_type": "code",
      "source": [
        "# Missing data management\n",
        "\n",
        "data = np.array(\n",
        "    [1,2,3,np.nan,5]\n",
        ")\n",
        "\n",
        "missing = np.isnan(data) # finding the missing value\n",
        "print(missing)"
      ],
      "metadata": {
        "colab": {
          "base_uri": "https://localhost:8080/"
        },
        "id": "bpqwmLHmWGUg",
        "outputId": "05943bd1-5f85-4e58-8438-a0fdd70956de"
      },
      "execution_count": 43,
      "outputs": [
        {
          "output_type": "stream",
          "name": "stdout",
          "text": [
            "[False False False  True False]\n"
          ]
        }
      ]
    },
    {
      "cell_type": "code",
      "source": [
        "data_fill = np.nan_to_num(data, nan = 0) # replacing the nan value with a value\n",
        "print(data_fill)"
      ],
      "metadata": {
        "colab": {
          "base_uri": "https://localhost:8080/"
        },
        "id": "mI9gprdYWU8l",
        "outputId": "c42f5f93-f6de-4c7f-f96d-150b2859dc00"
      },
      "execution_count": 47,
      "outputs": [
        {
          "output_type": "stream",
          "name": "stdout",
          "text": [
            "[1. 2. 3. 0. 5.]\n"
          ]
        }
      ]
    },
    {
      "cell_type": "code",
      "source": [
        "# ___________ Linear Algebra and Statistics ____________\n",
        "\n",
        "import numpy as np\n",
        "\n",
        "array1 = np.array([\n",
        "    [1,2],\n",
        "    [3,4]\n",
        "])\n",
        "\n",
        "array2 = np.array([\n",
        "    [5, 6],\n",
        "    [7,8]\n",
        "])\n"
      ],
      "metadata": {
        "id": "quNtlzSWWlQS"
      },
      "execution_count": 48,
      "outputs": []
    },
    {
      "cell_type": "code",
      "source": [
        "mul = np.dot(array1, array2) # dot product or matrix multiplication using \"MUL\"\n",
        "print(mul)"
      ],
      "metadata": {
        "colab": {
          "base_uri": "https://localhost:8080/"
        },
        "id": "eA12tgmXXKLm",
        "outputId": "4e90afbd-ad05-4203-bc56-0304e3236689"
      },
      "execution_count": 49,
      "outputs": [
        {
          "output_type": "stream",
          "name": "stdout",
          "text": [
            "[[19 22]\n",
            " [43 50]]\n"
          ]
        }
      ]
    },
    {
      "cell_type": "code",
      "source": [
        "inver = np.linalg.inv(array1) # inversion of the matrix using \"linalg()\"\n",
        "print(inver)"
      ],
      "metadata": {
        "colab": {
          "base_uri": "https://localhost:8080/"
        },
        "id": "zoTtG9ljXOv1",
        "outputId": "272fdef3-6c56-48a5-c444-e03d991f65c4"
      },
      "execution_count": 50,
      "outputs": [
        {
          "output_type": "stream",
          "name": "stdout",
          "text": [
            "[[-2.   1. ]\n",
            " [ 1.5 -0.5]]\n"
          ]
        }
      ]
    },
    {
      "cell_type": "code",
      "source": [
        "eval, evect = np.linalg.eig(array1) # eigen value and eigen vector\n",
        "print(eval, evect)"
      ],
      "metadata": {
        "colab": {
          "base_uri": "https://localhost:8080/"
        },
        "id": "If3idYJYXbdu",
        "outputId": "43788bc4-910e-4d77-9a2a-4edbc3521078"
      },
      "execution_count": 51,
      "outputs": [
        {
          "output_type": "stream",
          "name": "stdout",
          "text": [
            "[-0.37228132  5.37228132] [[-0.82456484 -0.41597356]\n",
            " [ 0.56576746 -0.90937671]]\n"
          ]
        }
      ]
    },
    {
      "cell_type": "code",
      "source": [
        "# Hypothesis testing\n",
        "\n",
        "data = np.array([1,2,3,4,5])\n",
        "\n",
        "mean = np.mean(data)\n",
        "std = np.std(data)\n",
        "print(mean, std)"
      ],
      "metadata": {
        "colab": {
          "base_uri": "https://localhost:8080/"
        },
        "id": "XjocX0XcXnct",
        "outputId": "29652f0e-fa14-4fa2-f7fb-1710fe9c8493"
      },
      "execution_count": 54,
      "outputs": [
        {
          "output_type": "stream",
          "name": "stdout",
          "text": [
            "3.0 1.4142135623730951\n"
          ]
        }
      ]
    },
    {
      "cell_type": "code",
      "source": [
        "data1 = np.array([11,12,13,14,15])\n",
        "corr = np.corrcoef(data, data1) # finding correlation between two arrays\n",
        "print(corr)\n"
      ],
      "metadata": {
        "colab": {
          "base_uri": "https://localhost:8080/"
        },
        "id": "8OJ2miAcXz32",
        "outputId": "6b10ad14-b908-4992-815c-1acbf8111564"
      },
      "execution_count": 56,
      "outputs": [
        {
          "output_type": "stream",
          "name": "stdout",
          "text": [
            "[[1. 1.]\n",
            " [1. 1.]]\n"
          ]
        }
      ]
    },
    {
      "cell_type": "code",
      "source": [
        "# Writing the numpy array into file\n",
        "\n",
        "np.savetxt('output.csv', mul, delimiter= \",\") # save as a text file"
      ],
      "metadata": {
        "id": "KVXlVc8eYJHI"
      },
      "execution_count": 57,
      "outputs": []
    },
    {
      "cell_type": "code",
      "source": [
        "np.save(\"output.npy\", mul) # saving as a numpy binary file, is faster"
      ],
      "metadata": {
        "id": "oMkSxHqlYnYZ"
      },
      "execution_count": 58,
      "outputs": []
    },
    {
      "cell_type": "code",
      "source": [
        "# for using - Load using \"np.load()\"\n",
        "\n",
        "new_matrix = np.load(\"output.npy\")\n",
        "print(new_matrix)"
      ],
      "metadata": {
        "colab": {
          "base_uri": "https://localhost:8080/"
        },
        "id": "yxfGQDQ2Y0uz",
        "outputId": "dda69c04-4f4d-4ebd-ad30-08442306e889"
      },
      "execution_count": 59,
      "outputs": [
        {
          "output_type": "stream",
          "name": "stdout",
          "text": [
            "[[19 22]\n",
            " [43 50]]\n"
          ]
        }
      ]
    },
    {
      "cell_type": "code",
      "source": [
        "# save as excel\n",
        "\n",
        "import pandas as pd\n",
        "\n",
        "df = pd.DataFrame(mul)\n",
        "df.to_excel(\"output.xlsx\")"
      ],
      "metadata": {
        "id": "Z8VyfyJDZA9w"
      },
      "execution_count": 61,
      "outputs": []
    },
    {
      "cell_type": "code",
      "source": [],
      "metadata": {
        "id": "iHQ1CEvOZPtr"
      },
      "execution_count": null,
      "outputs": []
    }
  ]
}