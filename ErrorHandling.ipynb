{
  "nbformat": 4,
  "nbformat_minor": 0,
  "metadata": {
    "colab": {
      "provenance": [],
      "toc_visible": true,
      "authorship_tag": "ABX9TyNJqNHHWCJc33abccH9d4FY",
      "include_colab_link": true
    },
    "kernelspec": {
      "name": "python3",
      "display_name": "Python 3"
    },
    "language_info": {
      "name": "python"
    }
  },
  "cells": [
    {
      "cell_type": "markdown",
      "metadata": {
        "id": "view-in-github",
        "colab_type": "text"
      },
      "source": [
        "<a href=\"https://colab.research.google.com/github/avishek7713/Python-For-Data-Engineering/blob/main/ErrorHandling.ipynb\" target=\"_parent\"><img src=\"https://colab.research.google.com/assets/colab-badge.svg\" alt=\"Open In Colab\"/></a>"
      ]
    },
    {
      "cell_type": "code",
      "execution_count": null,
      "metadata": {
        "id": "FswBTVaowpdt"
      },
      "outputs": [],
      "source": [
        "# ERRORS"
      ]
    },
    {
      "cell_type": "code",
      "source": [
        "# Zero division error\n",
        "\n",
        "print(10/0)"
      ],
      "metadata": {
        "colab": {
          "base_uri": "https://localhost:8080/",
          "height": 176
        },
        "id": "DzSGtTt5w4va",
        "outputId": "0e9d4ee8-cc7c-481e-8625-7869e1fc1c1a"
      },
      "execution_count": 1,
      "outputs": [
        {
          "output_type": "error",
          "ename": "ZeroDivisionError",
          "evalue": "division by zero",
          "traceback": [
            "\u001b[0;31m---------------------------------------------------------------------------\u001b[0m",
            "\u001b[0;31mZeroDivisionError\u001b[0m                         Traceback (most recent call last)",
            "\u001b[0;32m<ipython-input-1-158f3c42eae2>\u001b[0m in \u001b[0;36m<cell line: 3>\u001b[0;34m()\u001b[0m\n\u001b[1;32m      1\u001b[0m \u001b[0;31m# Zero division error\u001b[0m\u001b[0;34m\u001b[0m\u001b[0;34m\u001b[0m\u001b[0m\n\u001b[1;32m      2\u001b[0m \u001b[0;34m\u001b[0m\u001b[0m\n\u001b[0;32m----> 3\u001b[0;31m \u001b[0mprint\u001b[0m\u001b[0;34m(\u001b[0m\u001b[0;36m10\u001b[0m\u001b[0;34m/\u001b[0m\u001b[0;36m0\u001b[0m\u001b[0;34m)\u001b[0m\u001b[0;34m\u001b[0m\u001b[0;34m\u001b[0m\u001b[0m\n\u001b[0m",
            "\u001b[0;31mZeroDivisionError\u001b[0m: division by zero"
          ]
        }
      ]
    },
    {
      "cell_type": "code",
      "source": [
        "# Handling this error: Using the try and except blocks\n",
        "\n",
        "try:\n",
        "  print(10/0)\n",
        "except ZeroDivisionError:\n",
        "  print(\"Sorry, cannot divide by 0\")"
      ],
      "metadata": {
        "colab": {
          "base_uri": "https://localhost:8080/"
        },
        "id": "nOQ5ut3uw6YO",
        "outputId": "bb7c189a-8da6-4d13-f9c9-9031416bdd3c"
      },
      "execution_count": 2,
      "outputs": [
        {
          "output_type": "stream",
          "name": "stdout",
          "text": [
            "Sorry, cannot divide by 0\n"
          ]
        }
      ]
    },
    {
      "cell_type": "code",
      "source": [
        "try:\n",
        "  print(10/0)\n",
        "except:\n",
        "  print(\"Sorry you have an error\")"
      ],
      "metadata": {
        "id": "6jhlyRk3xFg4",
        "colab": {
          "base_uri": "https://localhost:8080/"
        },
        "outputId": "93c487b2-3e3f-44da-9fbc-f5935eb0defe"
      },
      "execution_count": 3,
      "outputs": [
        {
          "output_type": "stream",
          "name": "stdout",
          "text": [
            "Sorry you have an error\n"
          ]
        }
      ]
    },
    {
      "cell_type": "code",
      "source": [
        "# No error\n",
        "\n",
        "try:\n",
        "  print(10/1)\n",
        "except:\n",
        "  print(\"Sorry you have an error\")\n",
        "else: # in case of no error\n",
        "  print(\"No error occurred\")"
      ],
      "metadata": {
        "colab": {
          "base_uri": "https://localhost:8080/"
        },
        "id": "E1LhkWkpkbXK",
        "outputId": "e3fbbbd5-6f2a-4031-90fd-d0955eb791f0"
      },
      "execution_count": 4,
      "outputs": [
        {
          "output_type": "stream",
          "name": "stdout",
          "text": [
            "10.0\n",
            "No error occurred\n"
          ]
        }
      ]
    },
    {
      "cell_type": "code",
      "source": [
        "# Finally\n",
        "\n",
        "try:\n",
        "  print(10/2)\n",
        "except:\n",
        "  print(\"Sorry you have an error\")\n",
        "else:\n",
        "  print(\"No error occurred\")\n",
        "finally: # executes no matter if there is error or not\n",
        "  print(\"Executes always\")"
      ],
      "metadata": {
        "colab": {
          "base_uri": "https://localhost:8080/"
        },
        "id": "5_gAzX7nko2l",
        "outputId": "e0e067a8-1417-4cb0-ad41-50fee3803bd3"
      },
      "execution_count": 9,
      "outputs": [
        {
          "output_type": "stream",
          "name": "stdout",
          "text": [
            "5.0\n",
            "No error occurred\n",
            "Executes always\n"
          ]
        }
      ]
    },
    {
      "cell_type": "code",
      "source": [],
      "metadata": {
        "id": "tKXu0r-3kvjl"
      },
      "execution_count": null,
      "outputs": []
    }
  ]
}