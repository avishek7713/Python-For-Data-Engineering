{
  "nbformat": 4,
  "nbformat_minor": 0,
  "metadata": {
    "colab": {
      "provenance": [],
      "authorship_tag": "ABX9TyMUUtfutILlKlhVXhqS4A3V",
      "include_colab_link": true
    },
    "kernelspec": {
      "name": "python3",
      "display_name": "Python 3"
    },
    "language_info": {
      "name": "python"
    }
  },
  "cells": [
    {
      "cell_type": "markdown",
      "metadata": {
        "id": "view-in-github",
        "colab_type": "text"
      },
      "source": [
        "<a href=\"https://colab.research.google.com/github/avishek7713/Python-For-Data-Engineering/blob/main/PythonFunctions.ipynb\" target=\"_parent\"><img src=\"https://colab.research.google.com/assets/colab-badge.svg\" alt=\"Open In Colab\"/></a>"
      ]
    },
    {
      "cell_type": "code",
      "execution_count": 1,
      "metadata": {
        "id": "bDhbIjJErhKD"
      },
      "outputs": [],
      "source": [
        "def greet():\n",
        "  print(\"Hello World!\")"
      ]
    },
    {
      "cell_type": "code",
      "source": [
        "greet()"
      ],
      "metadata": {
        "colab": {
          "base_uri": "https://localhost:8080/"
        },
        "id": "DJ-MiOAfrqOz",
        "outputId": "17adb7ae-346c-4547-be06-d3bbd508b6c8"
      },
      "execution_count": 2,
      "outputs": [
        {
          "output_type": "stream",
          "name": "stdout",
          "text": [
            "Hello World!\n"
          ]
        }
      ]
    },
    {
      "cell_type": "code",
      "source": [
        "# Function with parameters\n",
        "\n",
        "def greet(name):\n",
        "  print(\"Hello \" + name)"
      ],
      "metadata": {
        "id": "0Q28zlhWrrVl"
      },
      "execution_count": 5,
      "outputs": []
    },
    {
      "cell_type": "code",
      "source": [
        "greet(\"Avishek\")"
      ],
      "metadata": {
        "colab": {
          "base_uri": "https://localhost:8080/"
        },
        "id": "-b3fDt1Br9Li",
        "outputId": "26bb6bcd-ba04-4f3f-9584-24aad944648d"
      },
      "execution_count": 6,
      "outputs": [
        {
          "output_type": "stream",
          "name": "stdout",
          "text": [
            "Hello Avishek\n"
          ]
        }
      ]
    },
    {
      "cell_type": "code",
      "source": [
        "# Function returning a value\n",
        "\n",
        "def add_numbers(num1, num2):\n",
        "  return num1 + num2"
      ],
      "metadata": {
        "id": "8Wqn8AAcr-hM"
      },
      "execution_count": 7,
      "outputs": []
    },
    {
      "cell_type": "code",
      "source": [
        "sum = add_numbers(10, 20)\n",
        "print(sum)"
      ],
      "metadata": {
        "colab": {
          "base_uri": "https://localhost:8080/"
        },
        "id": "JCBeiFfcsLKB",
        "outputId": "15c1dc32-1ba8-47c3-cbc6-a223a02ce3d9"
      },
      "execution_count": 8,
      "outputs": [
        {
          "output_type": "stream",
          "name": "stdout",
          "text": [
            "30\n"
          ]
        }
      ]
    },
    {
      "cell_type": "code",
      "source": [
        ""
      ],
      "metadata": {
        "id": "DRpCS1oYsP50"
      },
      "execution_count": null,
      "outputs": []
    }
  ]
}