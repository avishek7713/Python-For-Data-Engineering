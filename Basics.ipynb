{
  "nbformat": 4,
  "nbformat_minor": 0,
  "metadata": {
    "colab": {
      "provenance": [],
      "authorship_tag": "ABX9TyNlkJeK7xAqQF7Nd7WdjhFJ",
      "include_colab_link": true
    },
    "kernelspec": {
      "name": "python3",
      "display_name": "Python 3"
    },
    "language_info": {
      "name": "python"
    }
  },
  "cells": [
    {
      "cell_type": "markdown",
      "metadata": {
        "id": "view-in-github",
        "colab_type": "text"
      },
      "source": [
        "<a href=\"https://colab.research.google.com/github/avishek7713/Python-For-Data-Engineering/blob/main/Basics.ipynb\" target=\"_parent\"><img src=\"https://colab.research.google.com/assets/colab-badge.svg\" alt=\"Open In Colab\"/></a>"
      ]
    },
    {
      "cell_type": "code",
      "execution_count": 1,
      "metadata": {
        "colab": {
          "base_uri": "https://localhost:8080/"
        },
        "id": "hmitqLatnXgL",
        "outputId": "d1bd6694-6a01-47b9-98b5-e9f7ae7fd6d3"
      },
      "outputs": [
        {
          "output_type": "stream",
          "name": "stdout",
          "text": [
            "Hello Data Engineering !\n"
          ]
        }
      ],
      "source": [
        "# Creating a variable and assigning it a value\n",
        "\n",
        "greeting = \"Hello Data Engineering !\"\n",
        "print(greeting)"
      ]
    },
    {
      "cell_type": "code",
      "source": [
        "# Data Types: INT, FLOAT, STRING, BOOLEAN\n",
        "\n",
        "# Defining variables\n",
        "\n",
        "int_var = 7\n",
        "float_var = 3.14\n",
        "str_var = \"Hello World!\"\n",
        "bool_var = True\n",
        "\n",
        "print(int_var, float_var, str_var, bool_var)"
      ],
      "metadata": {
        "colab": {
          "base_uri": "https://localhost:8080/"
        },
        "id": "0S5Ptq4HoIAB",
        "outputId": "150592e6-f6d4-4659-f6c3-0aea8ecf78ef"
      },
      "execution_count": 2,
      "outputs": [
        {
          "output_type": "stream",
          "name": "stdout",
          "text": [
            "7 3.14 Hello World! True\n"
          ]
        }
      ]
    },
    {
      "cell_type": "code",
      "source": [
        "# OPERATORS AND EXPRESSIONS\n",
        "\n",
        "# ARITHMETIC OPERATORS\n",
        "\n",
        "num1 = 7\n",
        "num2 = 10\n",
        "\n",
        "sum = num1 + num2\n",
        "subtract = num2 - num1\n",
        "multiply = num1 * num2\n",
        "divide = num2 / num1\n",
        "\n",
        "print(sum, subtract, multiply, divide)"
      ],
      "metadata": {
        "colab": {
          "base_uri": "https://localhost:8080/"
        },
        "id": "-W5ydbT5opbl",
        "outputId": "8e44af85-eae7-42c4-d939-7ceb8c6f1d9e"
      },
      "execution_count": 3,
      "outputs": [
        {
          "output_type": "stream",
          "name": "stdout",
          "text": [
            "17 3 70 1.4285714285714286\n"
          ]
        }
      ]
    },
    {
      "cell_type": "code",
      "source": [
        "# COMPARISON OPERATORS\n",
        "\n",
        "var_equal = num1 == num2\n",
        "print(var_equal)\n",
        "\n",
        "not_equal = num1 != num2\n",
        "print(not_equal)\n",
        "\n",
        "greater = num1 > num2\n",
        "print(greater)\n"
      ],
      "metadata": {
        "colab": {
          "base_uri": "https://localhost:8080/"
        },
        "id": "nxQlFp0QpJTx",
        "outputId": "d58b3709-0e37-4d95-8aa2-437860fa53a3"
      },
      "execution_count": 6,
      "outputs": [
        {
          "output_type": "stream",
          "name": "stdout",
          "text": [
            "False\n",
            "True\n",
            "False\n"
          ]
        }
      ]
    },
    {
      "cell_type": "code",
      "source": [
        "# LOGICAL OPERATORS (AND, OR, NOT)\n",
        "\n",
        "print(True and False)\n",
        "print(True or False)"
      ],
      "metadata": {
        "colab": {
          "base_uri": "https://localhost:8080/"
        },
        "id": "9arM6kXqpZXN",
        "outputId": "c094e924-ad63-4914-e1a2-db2d7651555b"
      },
      "execution_count": 10,
      "outputs": [
        {
          "output_type": "stream",
          "name": "stdout",
          "text": [
            "False\n",
            "True\n"
          ]
        }
      ]
    },
    {
      "cell_type": "code",
      "source": [
        "# CONTROL STRUCTURES - Used to control the flow of execution - IF, FOR, WHILE"
      ],
      "metadata": {
        "id": "c7XfuzOfpvVm"
      },
      "execution_count": 11,
      "outputs": []
    },
    {
      "cell_type": "code",
      "source": [
        "# IF\n",
        "\n",
        "num = 7\n",
        "\n",
        "if num > 10:\n",
        "  print(\"Greater\")\n",
        "else:\n",
        "  print(\"Smaller\")"
      ],
      "metadata": {
        "colab": {
          "base_uri": "https://localhost:8080/"
        },
        "id": "eTVlniS-qLv5",
        "outputId": "af1e7208-337c-412d-a1aa-7104351fdc5f"
      },
      "execution_count": 12,
      "outputs": [
        {
          "output_type": "stream",
          "name": "stdout",
          "text": [
            "Smaller\n"
          ]
        }
      ]
    },
    {
      "cell_type": "code",
      "source": [
        "# FOR\n",
        "\n",
        "for i in range(5):\n",
        "  print(i)"
      ],
      "metadata": {
        "colab": {
          "base_uri": "https://localhost:8080/"
        },
        "id": "z1ObZ7DvqXi5",
        "outputId": "260000be-6e0a-401e-e103-398ef742877a"
      },
      "execution_count": 13,
      "outputs": [
        {
          "output_type": "stream",
          "name": "stdout",
          "text": [
            "0\n",
            "1\n",
            "2\n",
            "3\n",
            "4\n"
          ]
        }
      ]
    },
    {
      "cell_type": "code",
      "source": [
        "# WHILE\n",
        "\n",
        "num = 5\n",
        "while num > 0:\n",
        "  print(num)\n",
        "  num -= 1"
      ],
      "metadata": {
        "colab": {
          "base_uri": "https://localhost:8080/"
        },
        "id": "nzITXUTsqi4d",
        "outputId": "5f8182c6-7627-4e7a-ee72-5ce64c3e6d01"
      },
      "execution_count": 14,
      "outputs": [
        {
          "output_type": "stream",
          "name": "stdout",
          "text": [
            "5\n",
            "4\n",
            "3\n",
            "2\n",
            "1\n"
          ]
        }
      ]
    }
  ]
}