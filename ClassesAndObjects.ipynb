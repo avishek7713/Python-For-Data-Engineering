{
  "nbformat": 4,
  "nbformat_minor": 0,
  "metadata": {
    "colab": {
      "provenance": [],
      "authorship_tag": "ABX9TyOj6VSgbprkgc9Mwm3ocJLS",
      "include_colab_link": true
    },
    "kernelspec": {
      "name": "python3",
      "display_name": "Python 3"
    },
    "language_info": {
      "name": "python"
    }
  },
  "cells": [
    {
      "cell_type": "markdown",
      "metadata": {
        "id": "view-in-github",
        "colab_type": "text"
      },
      "source": [
        "<a href=\"https://colab.research.google.com/github/avishek7713/Python-For-Data-Engineering/blob/main/ClassesAndObjects.ipynb\" target=\"_parent\"><img src=\"https://colab.research.google.com/assets/colab-badge.svg\" alt=\"Open In Colab\"/></a>"
      ]
    },
    {
      "cell_type": "code",
      "execution_count": 1,
      "metadata": {
        "id": "UwrasNMc71JO"
      },
      "outputs": [],
      "source": [
        "# class creation, definition and attributes and methods\n",
        "\n",
        "class Employee:\n",
        "  def __init__(self, name, position, salary):\n",
        "    self.name = name\n",
        "    self.position = position\n",
        "    self.salary = salary\n",
        "\n",
        "  def display_info(self):\n",
        "    return f\"{self.name} is a {self.position} earning ${self.salary} anually.\""
      ]
    },
    {
      "cell_type": "code",
      "source": [
        "# Object creation\n",
        "\n",
        "employee1 = Employee(\"John Doe\", \"Manager\", 75000)\n",
        "employee2 = Employee(\"Jane Smith\", \"Developer\", 60000)"
      ],
      "metadata": {
        "id": "AngjpOp7_SpU"
      },
      "execution_count": 2,
      "outputs": []
    },
    {
      "cell_type": "code",
      "source": [
        "# accessing the methods of the class\n",
        "\n",
        "employee1.display_info()"
      ],
      "metadata": {
        "colab": {
          "base_uri": "https://localhost:8080/",
          "height": 35
        },
        "id": "95OZWKeg_eX_",
        "outputId": "d996bc60-d5bc-450b-9982-baa8882cc892"
      },
      "execution_count": 3,
      "outputs": [
        {
          "output_type": "execute_result",
          "data": {
            "text/plain": [
              "'John Doe is a Manager earning $75000 anually.'"
            ],
            "application/vnd.google.colaboratory.intrinsic+json": {
              "type": "string"
            }
          },
          "metadata": {},
          "execution_count": 3
        }
      ]
    },
    {
      "cell_type": "code",
      "source": [
        "employee2.display_info()"
      ],
      "metadata": {
        "colab": {
          "base_uri": "https://localhost:8080/",
          "height": 35
        },
        "id": "UIOdRC3v_qdT",
        "outputId": "7870193c-0500-42ec-8dfc-495bc2095ea7"
      },
      "execution_count": 4,
      "outputs": [
        {
          "output_type": "execute_result",
          "data": {
            "text/plain": [
              "'Jane Smith is a Developer earning $60000 anually.'"
            ],
            "application/vnd.google.colaboratory.intrinsic+json": {
              "type": "string"
            }
          },
          "metadata": {},
          "execution_count": 4
        }
      ]
    },
    {
      "cell_type": "code",
      "source": [
        "employee1.salary = 100000 # changing the class attributes\n",
        "employee1.display_info()"
      ],
      "metadata": {
        "colab": {
          "base_uri": "https://localhost:8080/",
          "height": 35
        },
        "id": "KPKAdY-y_ssY",
        "outputId": "3339bfe0-2421-4220-e452-5a8c8f4f0393"
      },
      "execution_count": 5,
      "outputs": [
        {
          "output_type": "execute_result",
          "data": {
            "text/plain": [
              "'John Doe is a Manager earning $100000 anually.'"
            ],
            "application/vnd.google.colaboratory.intrinsic+json": {
              "type": "string"
            }
          },
          "metadata": {},
          "execution_count": 5
        }
      ]
    },
    {
      "cell_type": "code",
      "source": [],
      "metadata": {
        "id": "Mu_5L1pI_xFy"
      },
      "execution_count": null,
      "outputs": []
    }
  ]
}